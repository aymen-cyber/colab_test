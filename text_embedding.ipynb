{
  "nbformat": 4,
  "nbformat_minor": 0,
  "metadata": {
    "colab": {
      "name": "text_embedding.ipynb",
      "provenance": [],
      "authorship_tag": "ABX9TyOSM2ZtLWNSzCGwcnQfGTNZ",
      "include_colab_link": true
    },
    "kernelspec": {
      "name": "python3",
      "display_name": "Python 3"
    },
    "language_info": {
      "name": "python"
    }
  },
  "cells": [
    {
      "cell_type": "markdown",
      "metadata": {
        "id": "view-in-github",
        "colab_type": "text"
      },
      "source": [
        "<a href=\"https://colab.research.google.com/github/aymen-cyber/colab_test/blob/main/text_embedding.ipynb\" target=\"_parent\"><img src=\"https://colab.research.google.com/assets/colab-badge.svg\" alt=\"Open In Colab\"/></a>"
      ]
    },
    {
      "cell_type": "code",
      "metadata": {
        "id": "YKU1g73aHp7W"
      },
      "source": [
        "from numpy import array\n",
        "from keras.preprocessing.text import one_hot\n",
        "from keras.preprocessing.sequence import pad_sequences\n",
        "from keras.models import Sequential\n",
        "from keras.layers import Dense\n",
        "from keras.layers import Flatten\n",
        "from keras.layers.embeddings import Embedding"
      ],
      "execution_count": 1,
      "outputs": []
    },
    {
      "cell_type": "code",
      "metadata": {
        "id": "LBupfccdHv6X"
      },
      "source": [
        "Sent = ['Hello, how are you',\n",
        "        'how are you',\n",
        "        'how are you doing',\n",
        "        'I am doing great',\n",
        "        'I am doing good',\n",
        "        'I am good']"
      ],
      "execution_count": 2,
      "outputs": []
    },
    {
      "cell_type": "code",
      "metadata": {
        "id": "YjkC4bTbHv9V"
      },
      "source": [
        "sent_labels = array([1,1,1,0,0,0])"
      ],
      "execution_count": 3,
      "outputs": []
    },
    {
      "cell_type": "code",
      "metadata": {
        "id": "IPOl9CRwHwEG",
        "colab": {
          "base_uri": "https://localhost:8080/"
        },
        "outputId": "d36d3a6a-7792-4541-9b4e-fbba2c8fbed3"
      },
      "source": [
        "my_vocab_size = 30\n",
        "encoded_sent = [one_hot(i, my_vocab_size) for i in Sent]\n",
        "print(encoded_sent)"
      ],
      "execution_count": 4,
      "outputs": [
        {
          "output_type": "stream",
          "name": "stdout",
          "text": [
            "[[4, 23, 25, 18], [23, 25, 18], [23, 25, 18, 24], [5, 29, 24, 16], [5, 29, 24, 12], [5, 29, 12]]\n"
          ]
        }
      ]
    },
    {
      "cell_type": "code",
      "metadata": {
        "id": "Z1T1FlNZHwJG",
        "colab": {
          "base_uri": "https://localhost:8080/"
        },
        "outputId": "0d72c3dc-f29e-4ecf-83f9-db32113964af"
      },
      "source": [
        "length = 5\n",
        "padded_sent = pad_sequences(encoded_sent, maxlen=length, padding='post')\n",
        "print(padded_sent)"
      ],
      "execution_count": 22,
      "outputs": [
        {
          "output_type": "stream",
          "name": "stdout",
          "text": [
            "[[ 4 23 25 18  0]\n",
            " [23 25 18  0  0]\n",
            " [23 25 18 24  0]\n",
            " [ 5 29 24 16  0]\n",
            " [ 5 29 24 12  0]\n",
            " [ 5 29 12  0  0]]\n"
          ]
        }
      ]
    },
    {
      "cell_type": "code",
      "metadata": {
        "id": "0fQCxzQ8H66_"
      },
      "source": [
        "mymodel = Sequential()\n",
        "mymodel.add(Embedding(my_vocab_size, 8, input_length=length))\n",
        "mymodel.add(Flatten())\n",
        "mymodel.add(Dense(1, activation='sigmoid'))"
      ],
      "execution_count": 8,
      "outputs": []
    },
    {
      "cell_type": "code",
      "metadata": {
        "id": "ICD4Y1ebH693"
      },
      "source": [
        "mymodel.compile(optimizer='adam', loss='binary_crossentropy', metrics=['accuracy'])"
      ],
      "execution_count": 9,
      "outputs": []
    },
    {
      "cell_type": "code",
      "metadata": {
        "id": "6v_fWmm3H7Cu",
        "colab": {
          "base_uri": "https://localhost:8080/"
        },
        "outputId": "43921350-a6c6-4380-de34-482743f60cff"
      },
      "source": [
        "mymodel.fit(padded_sent, sent_labels, epochs=30)\n",
        "\n",
        "# evaluate the model\n",
        "modelloss, modelaccuracy = mymodel.evaluate(padded_sent, sent_labels, verbose=0)\n",
        "print('Accuracy: %f' % (modelaccuracy*100))"
      ],
      "execution_count": 12,
      "outputs": [
        {
          "output_type": "stream",
          "name": "stdout",
          "text": [
            "Epoch 1/30\n",
            "1/1 [==============================] - 1s 933ms/step - loss: 0.6830 - accuracy: 0.5000\n",
            "Epoch 2/30\n",
            "1/1 [==============================] - 0s 13ms/step - loss: 0.6810 - accuracy: 0.5000\n",
            "Epoch 3/30\n",
            "1/1 [==============================] - 0s 6ms/step - loss: 0.6791 - accuracy: 0.6667\n",
            "Epoch 4/30\n",
            "1/1 [==============================] - 0s 8ms/step - loss: 0.6771 - accuracy: 0.6667\n",
            "Epoch 5/30\n",
            "1/1 [==============================] - 0s 5ms/step - loss: 0.6751 - accuracy: 0.8333\n",
            "Epoch 6/30\n",
            "1/1 [==============================] - 0s 7ms/step - loss: 0.6732 - accuracy: 0.8333\n",
            "Epoch 7/30\n",
            "1/1 [==============================] - 0s 6ms/step - loss: 0.6712 - accuracy: 0.8333\n",
            "Epoch 8/30\n",
            "1/1 [==============================] - 0s 7ms/step - loss: 0.6693 - accuracy: 0.8333\n",
            "Epoch 9/30\n",
            "1/1 [==============================] - 0s 12ms/step - loss: 0.6673 - accuracy: 0.8333\n",
            "Epoch 10/30\n",
            "1/1 [==============================] - 0s 6ms/step - loss: 0.6653 - accuracy: 0.8333\n",
            "Epoch 11/30\n",
            "1/1 [==============================] - 0s 9ms/step - loss: 0.6634 - accuracy: 0.8333\n",
            "Epoch 12/30\n",
            "1/1 [==============================] - 0s 9ms/step - loss: 0.6614 - accuracy: 0.8333\n",
            "Epoch 13/30\n",
            "1/1 [==============================] - 0s 8ms/step - loss: 0.6595 - accuracy: 0.8333\n",
            "Epoch 14/30\n",
            "1/1 [==============================] - 0s 8ms/step - loss: 0.6575 - accuracy: 0.8333\n",
            "Epoch 15/30\n",
            "1/1 [==============================] - 0s 9ms/step - loss: 0.6555 - accuracy: 0.8333\n",
            "Epoch 16/30\n",
            "1/1 [==============================] - 0s 9ms/step - loss: 0.6535 - accuracy: 0.8333\n",
            "Epoch 17/30\n",
            "1/1 [==============================] - 0s 7ms/step - loss: 0.6515 - accuracy: 0.8333\n",
            "Epoch 18/30\n",
            "1/1 [==============================] - 0s 8ms/step - loss: 0.6495 - accuracy: 0.8333\n",
            "Epoch 19/30\n",
            "1/1 [==============================] - 0s 4ms/step - loss: 0.6475 - accuracy: 0.8333\n",
            "Epoch 20/30\n",
            "1/1 [==============================] - 0s 5ms/step - loss: 0.6455 - accuracy: 0.8333\n",
            "Epoch 21/30\n",
            "1/1 [==============================] - 0s 6ms/step - loss: 0.6435 - accuracy: 1.0000\n",
            "Epoch 22/30\n",
            "1/1 [==============================] - 0s 7ms/step - loss: 0.6414 - accuracy: 1.0000\n",
            "Epoch 23/30\n",
            "1/1 [==============================] - 0s 6ms/step - loss: 0.6394 - accuracy: 1.0000\n",
            "Epoch 24/30\n",
            "1/1 [==============================] - 0s 6ms/step - loss: 0.6373 - accuracy: 1.0000\n",
            "Epoch 25/30\n",
            "1/1 [==============================] - 0s 7ms/step - loss: 0.6353 - accuracy: 1.0000\n",
            "Epoch 26/30\n",
            "1/1 [==============================] - 0s 8ms/step - loss: 0.6332 - accuracy: 1.0000\n",
            "Epoch 27/30\n",
            "1/1 [==============================] - 0s 9ms/step - loss: 0.6311 - accuracy: 1.0000\n",
            "Epoch 28/30\n",
            "1/1 [==============================] - 0s 6ms/step - loss: 0.6289 - accuracy: 1.0000\n",
            "Epoch 29/30\n",
            "1/1 [==============================] - 0s 5ms/step - loss: 0.6268 - accuracy: 1.0000\n",
            "Epoch 30/30\n",
            "1/1 [==============================] - 0s 6ms/step - loss: 0.6246 - accuracy: 1.0000\n",
            "Accuracy: 100.000000\n"
          ]
        }
      ]
    },
    {
      "cell_type": "code",
      "metadata": {
        "id": "Yo__3wHJH7Fn"
      },
      "source": [
        "mysent_to_predict = ['how are you Suman',\n",
        "        'I am good']"
      ],
      "execution_count": 13,
      "outputs": []
    },
    {
      "cell_type": "code",
      "metadata": {
        "id": "cfcCBoQ0HwL-",
        "colab": {
          "base_uri": "https://localhost:8080/"
        },
        "outputId": "e1cc3bea-95c1-4ca0-971c-a7c0c2ad4a8a"
      },
      "source": [
        "vocab_size = 30\n",
        "encoded = [one_hot(d, vocab_size) for d in mysent_to_predict]\n",
        "print(encoded)"
      ],
      "execution_count": 14,
      "outputs": [
        {
          "output_type": "stream",
          "name": "stdout",
          "text": [
            "[[23, 25, 18, 14], [5, 29, 12]]\n"
          ]
        }
      ]
    },
    {
      "cell_type": "code",
      "metadata": {
        "id": "V8xIfDHiHwOu",
        "colab": {
          "base_uri": "https://localhost:8080/"
        },
        "outputId": "f1314c34-604c-4bd1-8898-042891643f96"
      },
      "source": [
        "max_length = 5\n",
        "mypadded = pad_sequences(encoded, maxlen=max_length, padding='pre')\n",
        "print(mypadded)"
      ],
      "execution_count": 15,
      "outputs": [
        {
          "output_type": "stream",
          "name": "stdout",
          "text": [
            "[[ 0 23 25 18 14]\n",
            " [ 0  0  5 29 12]]\n"
          ]
        }
      ]
    },
    {
      "cell_type": "code",
      "metadata": {
        "id": "8PYrhXO_cfGH"
      },
      "source": [
        ""
      ],
      "execution_count": null,
      "outputs": []
    },
    {
      "cell_type": "code",
      "metadata": {
        "id": "XeYGyheAHwRl",
        "colab": {
          "base_uri": "https://localhost:8080/"
        },
        "outputId": "ff6bf83c-a564-4a6c-a66a-4ecad5e919a0"
      },
      "source": [
        "predictions = (mymodel.predict(mypadded) > 0.5).astype(\"int32\")\n",
        "mymodel.predict(mypadded)"
      ],
      "execution_count": 21,
      "outputs": [
        {
          "output_type": "execute_result",
          "data": {
            "text/plain": [
              "array([[0.5232605 ],\n",
              "       [0.49411085]], dtype=float32)"
            ]
          },
          "metadata": {},
          "execution_count": 21
        }
      ]
    },
    {
      "cell_type": "code",
      "metadata": {
        "id": "uWxiJjCTHwUm",
        "colab": {
          "base_uri": "https://localhost:8080/"
        },
        "outputId": "fd201ffa-3b63-4711-b341-9aeefa7000e5"
      },
      "source": [
        "predictions"
      ],
      "execution_count": 20,
      "outputs": [
        {
          "output_type": "execute_result",
          "data": {
            "text/plain": [
              "array([[1],\n",
              "       [0]], dtype=int32)"
            ]
          },
          "metadata": {},
          "execution_count": 20
        }
      ]
    },
    {
      "cell_type": "code",
      "metadata": {
        "id": "rX-AV_6qHwX9"
      },
      "source": [
        ""
      ],
      "execution_count": null,
      "outputs": []
    }
  ]
}